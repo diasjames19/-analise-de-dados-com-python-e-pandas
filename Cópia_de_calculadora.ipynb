{
  "nbformat": 4,
  "nbformat_minor": 0,
  "metadata": {
    "colab": {
      "provenance": [],
      "authorship_tag": "ABX9TyNqraTr6jt0MUo/pGPD6dF+",
      "include_colab_link": true
    },
    "kernelspec": {
      "name": "python3",
      "display_name": "Python 3"
    },
    "language_info": {
      "name": "python"
    }
  },
  "cells": [
    {
      "cell_type": "markdown",
      "metadata": {
        "id": "view-in-github",
        "colab_type": "text"
      },
      "source": [
        "<a href=\"https://colab.research.google.com/github/diasjames19/-analise-de-dados-com-python-e-pandas/blob/main/C%C3%B3pia_de_calculadora.ipynb\" target=\"_parent\"><img src=\"https://colab.research.google.com/assets/colab-badge.svg\" alt=\"Open In Colab\"/></a>"
      ]
    },
    {
      "cell_type": "code",
      "execution_count": null,
      "metadata": {
        "colab": {
          "base_uri": "https://localhost:8080/"
        },
        "id": "1cWz_4BXelw7",
        "outputId": "d0f37852-90f0-460f-f730-35201a17c16c"
      },
      "outputs": [
        {
          "output_type": "stream",
          "name": "stdout",
          "text": [
            "Escolha a Opção: *\n",
            "Digite um numero: 2\n",
            "Digite outro numero: 2\n",
            "Resultado =>4\n"
          ]
        }
      ],
      "source": [
        "operacao = input(\"Escolha a Opção: \");\n",
        "num1=int(input(\"Digite um numero: \"));\n",
        "num2=int(input(\"Digite outro numero: \"));\n",
        "\n",
        "def calculadora(opcao, valor1, valor2):\n",
        "  match opcao:\n",
        "    case '+':\n",
        "      resultado = valor1 + valor2;\n",
        "      return f'Resultado => {resultado}';\n",
        "    case '-':\n",
        "      resultado =  valor1 - valor2;\n",
        "      return f'Resultado => {resultado}';\n",
        "    case '*':\n",
        "      resultado = valor1 * valor2;\n",
        "      return f'Resultado => {resultado}';\n",
        "    case '/':\n",
        "      resultado = valor1 / valor2;\n",
        "      return f'Resultado => {resultado}';\n",
        "print(f'{calculadora(operacao,num1,num2)}');"
      ]
    }
  ]
}