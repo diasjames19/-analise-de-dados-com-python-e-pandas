{
  "nbformat": 4,
  "nbformat_minor": 0,
  "metadata": {
    "colab": {
      "provenance": [],
      "authorship_tag": "ABX9TyM8oIMWO2AUBQ+DyyuO6YYN",
      "include_colab_link": true
    },
    "kernelspec": {
      "name": "python3",
      "display_name": "Python 3"
    },
    "language_info": {
      "name": "python"
    }
  },
  "cells": [
    {
      "cell_type": "markdown",
      "metadata": {
        "id": "view-in-github",
        "colab_type": "text"
      },
      "source": [
        "<a href=\"https://colab.research.google.com/github/diasjames19/-analise-de-dados-com-python-e-pandas/blob/main/calculadoracomfuncao.ipynb\" target=\"_parent\"><img src=\"https://colab.research.google.com/assets/colab-badge.svg\" alt=\"Open In Colab\"/></a>"
      ]
    },
    {
      "cell_type": "code",
      "source": [
        "#Função  do layout do Programa Calculadora\n",
        "def layout(texto=\"[=====|Calculadora|=====]\\n\\n[1]=>Adição\\n[2]=>Subtração\\n[3]=>Multiplicação\\n[4]=>Divisão\\n[0]Sair\\n\\n[======================]\\n\"):\n",
        "  return texto;\n",
        "#Função Menu\n",
        "def menu(menu):\n",
        "  print(\"\\n[=====|Opeções|=====]\\n\\n[1]=>Operações Basicas\\n[0]=>Sair\\n\\n[======================]\\n\")\n",
        "  menu = int(input(\"\\n Escolha a Opeção: \"));\n",
        "  print(\"\\n\")\n",
        "  while(menu != 0):\n",
        "    if(menu == 1):\n",
        "        print(f'{calculadora(menu)}\\n');\n",
        "    else:\n",
        "      print(f'Opeção selecionada não existe');\n",
        "      menu = int(input(\"\\nEscolha a Opção: \"));\n",
        "  print(f'Você saiu da Aplicação!');\n",
        "\n",
        "#Função para uso das quatros Operações da Matematica\n",
        "def calculadora(opc):\n",
        "  print(layout());\n",
        "  opc =int(input(\"Operação:=> \"))\n",
        "  print(\"\\n[=====|Calcular|=====]\\n\");\n",
        "  if(opc == 0):\n",
        "    print(\"Você quer sair da Aplicação!!\");\n",
        "    menu(opc)\n",
        "  elif(opc == 1):\n",
        "    match opc:\n",
        "      case 0:\n",
        "        if(opc == 0):\n",
        "          exit();\n",
        "      case 1:\n",
        "        valor1 = float(input(\"Digite valor 1:=> \"))\n",
        "        valor2 = float(input(\"Digite valor 2:=> \"))\n",
        "        resultado = valor1 + valor2;\n",
        "        return f'Resultado => {resultado}';\n",
        "      case 2:\n",
        "        valor1 = float(input(\"Digite valor 1:=> \"))\n",
        "        valor2 = float(input(\"Digite valor 2:=> \"))\n",
        "        resultado =  valor1 - valor2;\n",
        "        return f'Resultado => {resultado}';\n",
        "      case 3:\n",
        "        valor1 = float(input(\"Digite valor 1:=> \"))\n",
        "        valor2 = float(input(\"Digite valor 2:=> \"))\n",
        "        resultado = valor1 * valor2;\n",
        "        return f'Resultado => {resultado}';\n",
        "      case 4:\n",
        "        valor1 = float(input(\"Digite valor 1:=> \"))\n",
        "        valor2 = float(input(\"Digite valor 2:=> \"))\n",
        "        resultado = valor1 / valor2;\n",
        "        return f'Resultado => {resultado}';\n",
        "#Parte Principal do Programa\n",
        "print(\"Inicio\\n[1]=>Calculadora\\n[0]=>Sair\");\n",
        "operacao = int(input(\"1 - Escolha a Opção: \"));\n",
        "if(operacao == 1):\n",
        "  menu(operacao);\n",
        "elif(operacao < 1):\n",
        "  print(\"Você saiu da Aplicação!!\");\n",
        "else:\n",
        "  print(\"Opção Invalida!!\")\n",
        "  menu(operacao);\n",
        "\n",
        "\n"
      ],
      "metadata": {
        "id": "2FP2JNSBziL7",
        "colab": {
          "base_uri": "https://localhost:8080/",
          "height": 1000
        },
        "outputId": "89e38957-0830-4fcf-d588-f27c022a46f2"
      },
      "execution_count": null,
      "outputs": [
        {
          "output_type": "stream",
          "name": "stdout",
          "text": [
            "Inicio\n",
            "[1]=>Calculadora\n",
            "[0]=>Sair\n",
            "1 - Escolha a Opção: 1\n",
            "\n",
            "[=====|Opeções|=====]\n",
            "\n",
            "[1]=>Operações Basicas\n",
            "[0]=>Sair\n",
            "\n",
            "[======================]\n",
            "\n",
            "\n",
            " Escolha a Opeção: 1\n",
            "\n",
            "\n",
            "[=====|Calculadora|=====]\n",
            "\n",
            "[1]=>Adição\n",
            "[2]=>Subtração\n",
            "[3]=>Multiplicação\n",
            "[4]=>Divisão\n",
            "[0]Sair\n",
            "\n",
            "[======================]\n",
            "\n",
            "Operação:=> 0\n",
            "\n",
            "[=====|Calcular|=====]\n",
            "\n",
            "Você quer sair da Aplicação!!\n",
            "\n",
            "[=====|Opeções|=====]\n",
            "\n",
            "[1]=>Operações Basicas\n",
            "[0]=>Sair\n",
            "\n",
            "[======================]\n",
            "\n",
            "\n",
            " Escolha a Opeção: 0\n",
            "\n",
            "\n",
            "Você saiu da Aplicação!\n",
            "None\n",
            "\n",
            "[=====|Calculadora|=====]\n",
            "\n",
            "[1]=>Adição\n",
            "[2]=>Subtração\n",
            "[3]=>Multiplicação\n",
            "[4]=>Divisão\n",
            "[0]Sair\n",
            "\n",
            "[======================]\n",
            "\n"
          ]
        },
        {
          "output_type": "error",
          "ename": "KeyboardInterrupt",
          "evalue": "ignored",
          "traceback": [
            "\u001b[0;31m---------------------------------------------------------------------------\u001b[0m",
            "\u001b[0;31mKeyboardInterrupt\u001b[0m                         Traceback (most recent call last)",
            "\u001b[0;32m<ipython-input-46-56e47e6cfb7b>\u001b[0m in \u001b[0;36m<cell line: 53>\u001b[0;34m()\u001b[0m\n\u001b[1;32m     52\u001b[0m \u001b[0moperacao\u001b[0m \u001b[0;34m=\u001b[0m \u001b[0mint\u001b[0m\u001b[0;34m(\u001b[0m\u001b[0minput\u001b[0m\u001b[0;34m(\u001b[0m\u001b[0;34m\"1 - Escolha a Opção: \"\u001b[0m\u001b[0;34m)\u001b[0m\u001b[0;34m)\u001b[0m\u001b[0;34m;\u001b[0m\u001b[0;34m\u001b[0m\u001b[0;34m\u001b[0m\u001b[0m\n\u001b[1;32m     53\u001b[0m \u001b[0;32mif\u001b[0m\u001b[0;34m(\u001b[0m\u001b[0moperacao\u001b[0m \u001b[0;34m==\u001b[0m \u001b[0;36m1\u001b[0m\u001b[0;34m)\u001b[0m\u001b[0;34m:\u001b[0m\u001b[0;34m\u001b[0m\u001b[0;34m\u001b[0m\u001b[0m\n\u001b[0;32m---> 54\u001b[0;31m   \u001b[0mmenu\u001b[0m\u001b[0;34m(\u001b[0m\u001b[0moperacao\u001b[0m\u001b[0;34m)\u001b[0m\u001b[0;34m;\u001b[0m\u001b[0;34m\u001b[0m\u001b[0;34m\u001b[0m\u001b[0m\n\u001b[0m\u001b[1;32m     55\u001b[0m \u001b[0;32melif\u001b[0m\u001b[0;34m(\u001b[0m\u001b[0moperacao\u001b[0m \u001b[0;34m<\u001b[0m \u001b[0;36m1\u001b[0m\u001b[0;34m)\u001b[0m\u001b[0;34m:\u001b[0m\u001b[0;34m\u001b[0m\u001b[0;34m\u001b[0m\u001b[0m\n\u001b[1;32m     56\u001b[0m   \u001b[0mprint\u001b[0m\u001b[0;34m(\u001b[0m\u001b[0;34m\"Você saiu da Aplicação!!\"\u001b[0m\u001b[0;34m)\u001b[0m\u001b[0;34m;\u001b[0m\u001b[0;34m\u001b[0m\u001b[0;34m\u001b[0m\u001b[0m\n",
            "\u001b[0;32m<ipython-input-46-56e47e6cfb7b>\u001b[0m in \u001b[0;36mmenu\u001b[0;34m(menu)\u001b[0m\n\u001b[1;32m      9\u001b[0m   \u001b[0;32mwhile\u001b[0m\u001b[0;34m(\u001b[0m\u001b[0mmenu\u001b[0m \u001b[0;34m!=\u001b[0m \u001b[0;36m0\u001b[0m\u001b[0;34m)\u001b[0m\u001b[0;34m:\u001b[0m\u001b[0;34m\u001b[0m\u001b[0;34m\u001b[0m\u001b[0m\n\u001b[1;32m     10\u001b[0m     \u001b[0;32mif\u001b[0m\u001b[0;34m(\u001b[0m\u001b[0mmenu\u001b[0m \u001b[0;34m==\u001b[0m \u001b[0;36m1\u001b[0m\u001b[0;34m)\u001b[0m\u001b[0;34m:\u001b[0m\u001b[0;34m\u001b[0m\u001b[0;34m\u001b[0m\u001b[0m\n\u001b[0;32m---> 11\u001b[0;31m         \u001b[0mprint\u001b[0m\u001b[0;34m(\u001b[0m\u001b[0;34mf'{calculadora(menu)}\\n'\u001b[0m\u001b[0;34m)\u001b[0m\u001b[0;34m;\u001b[0m\u001b[0;34m\u001b[0m\u001b[0;34m\u001b[0m\u001b[0m\n\u001b[0m\u001b[1;32m     12\u001b[0m     \u001b[0;32melse\u001b[0m\u001b[0;34m:\u001b[0m\u001b[0;34m\u001b[0m\u001b[0;34m\u001b[0m\u001b[0m\n\u001b[1;32m     13\u001b[0m       \u001b[0mprint\u001b[0m\u001b[0;34m(\u001b[0m\u001b[0;34mf'Opeção selecionada não existe'\u001b[0m\u001b[0;34m)\u001b[0m\u001b[0;34m;\u001b[0m\u001b[0;34m\u001b[0m\u001b[0;34m\u001b[0m\u001b[0m\n",
            "\u001b[0;32m<ipython-input-46-56e47e6cfb7b>\u001b[0m in \u001b[0;36mcalculadora\u001b[0;34m(opc)\u001b[0m\n\u001b[1;32m     18\u001b[0m \u001b[0;32mdef\u001b[0m \u001b[0mcalculadora\u001b[0m\u001b[0;34m(\u001b[0m\u001b[0mopc\u001b[0m\u001b[0;34m)\u001b[0m\u001b[0;34m:\u001b[0m\u001b[0;34m\u001b[0m\u001b[0;34m\u001b[0m\u001b[0m\n\u001b[1;32m     19\u001b[0m   \u001b[0mprint\u001b[0m\u001b[0;34m(\u001b[0m\u001b[0mlayout\u001b[0m\u001b[0;34m(\u001b[0m\u001b[0;34m)\u001b[0m\u001b[0;34m)\u001b[0m\u001b[0;34m;\u001b[0m\u001b[0;34m\u001b[0m\u001b[0;34m\u001b[0m\u001b[0m\n\u001b[0;32m---> 20\u001b[0;31m   \u001b[0mopc\u001b[0m \u001b[0;34m=\u001b[0m\u001b[0mint\u001b[0m\u001b[0;34m(\u001b[0m\u001b[0minput\u001b[0m\u001b[0;34m(\u001b[0m\u001b[0;34m\"Operação:=> \"\u001b[0m\u001b[0;34m)\u001b[0m\u001b[0;34m)\u001b[0m\u001b[0;34m\u001b[0m\u001b[0;34m\u001b[0m\u001b[0m\n\u001b[0m\u001b[1;32m     21\u001b[0m   \u001b[0mprint\u001b[0m\u001b[0;34m(\u001b[0m\u001b[0;34m\"\\n[=====|Calcular|=====]\\n\"\u001b[0m\u001b[0;34m)\u001b[0m\u001b[0;34m;\u001b[0m\u001b[0;34m\u001b[0m\u001b[0;34m\u001b[0m\u001b[0m\n\u001b[1;32m     22\u001b[0m   \u001b[0;32mif\u001b[0m\u001b[0;34m(\u001b[0m\u001b[0mopc\u001b[0m \u001b[0;34m==\u001b[0m \u001b[0;36m0\u001b[0m\u001b[0;34m)\u001b[0m\u001b[0;34m:\u001b[0m\u001b[0;34m\u001b[0m\u001b[0;34m\u001b[0m\u001b[0m\n",
            "\u001b[0;32m/usr/local/lib/python3.10/dist-packages/ipykernel/kernelbase.py\u001b[0m in \u001b[0;36mraw_input\u001b[0;34m(self, prompt)\u001b[0m\n\u001b[1;32m    849\u001b[0m                 \u001b[0;34m\"raw_input was called, but this frontend does not support input requests.\"\u001b[0m\u001b[0;34m\u001b[0m\u001b[0;34m\u001b[0m\u001b[0m\n\u001b[1;32m    850\u001b[0m             )\n\u001b[0;32m--> 851\u001b[0;31m         return self._input_request(str(prompt),\n\u001b[0m\u001b[1;32m    852\u001b[0m             \u001b[0mself\u001b[0m\u001b[0;34m.\u001b[0m\u001b[0m_parent_ident\u001b[0m\u001b[0;34m,\u001b[0m\u001b[0;34m\u001b[0m\u001b[0;34m\u001b[0m\u001b[0m\n\u001b[1;32m    853\u001b[0m             \u001b[0mself\u001b[0m\u001b[0;34m.\u001b[0m\u001b[0m_parent_header\u001b[0m\u001b[0;34m,\u001b[0m\u001b[0;34m\u001b[0m\u001b[0;34m\u001b[0m\u001b[0m\n",
            "\u001b[0;32m/usr/local/lib/python3.10/dist-packages/ipykernel/kernelbase.py\u001b[0m in \u001b[0;36m_input_request\u001b[0;34m(self, prompt, ident, parent, password)\u001b[0m\n\u001b[1;32m    893\u001b[0m             \u001b[0;32mexcept\u001b[0m \u001b[0mKeyboardInterrupt\u001b[0m\u001b[0;34m:\u001b[0m\u001b[0;34m\u001b[0m\u001b[0;34m\u001b[0m\u001b[0m\n\u001b[1;32m    894\u001b[0m                 \u001b[0;31m# re-raise KeyboardInterrupt, to truncate traceback\u001b[0m\u001b[0;34m\u001b[0m\u001b[0;34m\u001b[0m\u001b[0m\n\u001b[0;32m--> 895\u001b[0;31m                 \u001b[0;32mraise\u001b[0m \u001b[0mKeyboardInterrupt\u001b[0m\u001b[0;34m(\u001b[0m\u001b[0;34m\"Interrupted by user\"\u001b[0m\u001b[0;34m)\u001b[0m \u001b[0;32mfrom\u001b[0m \u001b[0;32mNone\u001b[0m\u001b[0;34m\u001b[0m\u001b[0;34m\u001b[0m\u001b[0m\n\u001b[0m\u001b[1;32m    896\u001b[0m             \u001b[0;32mexcept\u001b[0m \u001b[0mException\u001b[0m \u001b[0;32mas\u001b[0m \u001b[0me\u001b[0m\u001b[0;34m:\u001b[0m\u001b[0;34m\u001b[0m\u001b[0;34m\u001b[0m\u001b[0m\n\u001b[1;32m    897\u001b[0m                 \u001b[0mself\u001b[0m\u001b[0;34m.\u001b[0m\u001b[0mlog\u001b[0m\u001b[0;34m.\u001b[0m\u001b[0mwarning\u001b[0m\u001b[0;34m(\u001b[0m\u001b[0;34m\"Invalid Message:\"\u001b[0m\u001b[0;34m,\u001b[0m \u001b[0mexc_info\u001b[0m\u001b[0;34m=\u001b[0m\u001b[0;32mTrue\u001b[0m\u001b[0;34m)\u001b[0m\u001b[0;34m\u001b[0m\u001b[0;34m\u001b[0m\u001b[0m\n",
            "\u001b[0;31mKeyboardInterrupt\u001b[0m: Interrupted by user"
          ]
        }
      ]
    }
  ]
}