{
  "nbformat": 4,
  "nbformat_minor": 0,
  "metadata": {
    "colab": {
      "provenance": [],
      "authorship_tag": "ABX9TyM8oIMWO2AUBQ+DyyuO6YYN",
      "include_colab_link": true
    },
    "kernelspec": {
      "name": "python3",
      "display_name": "Python 3"
    },
    "language_info": {
      "name": "python"
    }
  },
  "cells": [
    {
      "cell_type": "markdown",
      "metadata": {
        "id": "view-in-github",
        "colab_type": "text"
      },
      "source": [
        "<a href=\"https://colab.research.google.com/github/diasjames19/-analise-de-dados-com-python-e-pandas/blob/main/calculadoracomfuncao.ipynb\" target=\"_parent\"><img src=\"https://colab.research.google.com/assets/colab-badge.svg\" alt=\"Open In Colab\"/></a>"
      ]
    },
    {
      "cell_type": "code",
      "source": [
        "#Função  do layout do Programa Calculadora\n",
        "def layout(texto=\"[=====|Calculadora|=====]\\n\\n[1]=>Adição\\n[2]=>Subtração\\n[3]=>Multiplicação\\n[4]=>Divisão\\n[0]Sair\\n\\n[======================]\\n\"):\n",
        "  return texto;\n",
        "#Função Menu\n",
        "def menu(menu):\n",
        "  print(\"\\n[=====|Opeções|=====]\\n\\n[1]=>Operações Basicas\\n[0]=>Sair\\n\\n[======================]\\n\")\n",
        "  menu = int(input(\"\\n Escolha a Opeção: \"));\n",
        "  print(\"\\n\")\n",
        "  while(menu != 0):\n",
        "    if(menu == 1):\n",
        "        print(f'{calculadora(menu)}\\n');\n",
        "    else:\n",
        "      print(f'Opeção selecionada não existe');\n",
        "      menu = int(input(\"\\nEscolha a Opção: \"));\n",
        "  print(f'Você saiu da Aplicação!');\n",
        "\n",
        "#Função para uso das quatros Operações da Matematica\n",
        "def calculadora(opc):\n",
        "  print(layout());\n",
        "  opc =int(input(\"Operação:=> \"))\n",
        "  print(\"\\n[=====|Calcular|=====]\\n\");\n",
        "  if(opc == 0):\n",
        "    print(\"Você quer sair da Aplicação!!\");\n",
        "    menu(opc)\n",
        "  elif(opc == 1):\n",
        "    match opc:\n",
        "      case 0:\n",
        "        if(opc == 0):\n",
        "          exit();\n",
        "      case 1:\n",
        "        valor1 = float(input(\"Digite valor 1:=> \"))\n",
        "        valor2 = float(input(\"Digite valor 2:=> \"))\n",
        "        resultado = valor1 + valor2;\n",
        "        return f'Resultado => {resultado}';\n",
        "      case 2:\n",
        "        valor1 = float(input(\"Digite valor 1:=> \"))\n",
        "        valor2 = float(input(\"Digite valor 2:=> \"))\n",
        "        resultado =  valor1 - valor2;\n",
        "        return f'Resultado => {resultado}';\n",
        "      case 3:\n",
        "        valor1 = float(input(\"Digite valor 1:=> \"))\n",
        "        valor2 = float(input(\"Digite valor 2:=> \"))\n",
        "        resultado = valor1 * valor2;\n",
        "        return f'Resultado => {resultado}';\n",
        "      case 4:\n",
        "        valor1 = float(input(\"Digite valor 1:=> \"))\n",
        "        valor2 = float(input(\"Digite valor 2:=> \"))\n",
        "        resultado = valor1 / valor2;\n",
        "        return f'Resultado => {resultado}';\n",
        "#Parte Principal do Programa\n",
        "print(\"Inicio\\n[1]=>Calculadora\\n[0]=>Sair\");\n",
        "operacao = int(input(\"1 - Escolha a Opção: \"));\n",
        "if(operacao == 1):\n",
        "  menu(operacao);\n",
        "elif(operacao < 1):\n",
        "  print(\"Você saiu da Aplicação!!\");\n",
        "else:\n",
        "  print(\"Opção Invalida!!\")\n",
        "  menu(operacao);\n",
        "\n",
        "\n"
      ],
      "metadata": {
        "id": "2FP2JNSBziL7"
      },
      "execution_count": null,
      "outputs": []
    }
  ]
}