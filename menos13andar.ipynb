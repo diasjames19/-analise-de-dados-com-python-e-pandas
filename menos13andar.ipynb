{
  "nbformat": 4,
  "nbformat_minor": 0,
  "metadata": {
    "colab": {
      "provenance": [],
      "authorship_tag": "ABX9TyOIqpgad9gUuYSUe7N0OhSS",
      "include_colab_link": true
    },
    "kernelspec": {
      "name": "python3",
      "display_name": "Python 3"
    },
    "language_info": {
      "name": "python"
    }
  },
  "cells": [
    {
      "cell_type": "markdown",
      "metadata": {
        "id": "view-in-github",
        "colab_type": "text"
      },
      "source": [
        "<a href=\"https://colab.research.google.com/github/diasjames19/-analise-de-dados-com-python-e-pandas/blob/main/menos13andar.ipynb\" target=\"_parent\"><img src=\"https://colab.research.google.com/assets/colab-badge.svg\" alt=\"Open In Colab\"/></a>"
      ]
    },
    {
      "cell_type": "code",
      "execution_count": null,
      "metadata": {
        "id": "wXZupYJo3QjR"
      },
      "outputs": [],
      "source": [
        "andares = 20;\n",
        "etiqueta = 0\n",
        "while andares > etiqueta:\n",
        "  etiqueta = etiqueta + 1\n",
        "  if(etiqueta == 13):\n",
        "    etiqueta = etiqueta + 1\n",
        "  print(f'{etiqueta}º Andar');"
      ]
    },
    {
      "cell_type": "code",
      "source": [
        "#Ordem Inversa\n",
        "etiqueta = 21\n",
        "for indice in range(1,20):\n",
        "  etiqueta = etiqueta - 1\n",
        "  if(etiqueta == 13):\n",
        "    etiqueta = etiqueta - 1\n",
        "  print(f'{etiqueta}º Andar');"
      ],
      "metadata": {
        "id": "-LcFnhk25SDJ"
      },
      "execution_count": null,
      "outputs": []
    }
  ]
}