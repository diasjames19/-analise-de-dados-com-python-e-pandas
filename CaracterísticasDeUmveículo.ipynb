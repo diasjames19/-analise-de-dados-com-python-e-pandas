{
  "nbformat": 4,
  "nbformat_minor": 0,
  "metadata": {
    "colab": {
      "provenance": [],
      "authorship_tag": "ABX9TyOmq+EsX0+ubEoWJ0s9XyTb",
      "include_colab_link": true
    },
    "kernelspec": {
      "name": "python3",
      "display_name": "Python 3"
    },
    "language_info": {
      "name": "python"
    }
  },
  "cells": [
    {
      "cell_type": "markdown",
      "metadata": {
        "id": "view-in-github",
        "colab_type": "text"
      },
      "source": [
        "<a href=\"https://colab.research.google.com/github/diasjames19/-analise-de-dados-com-python-e-pandas/blob/main/Caracter%C3%ADsticasDeUmve%C3%ADculo.ipynb\" target=\"_parent\"><img src=\"https://colab.research.google.com/assets/colab-badge.svg\" alt=\"Open In Colab\"/></a>"
      ]
    },
    {
      "cell_type": "code",
      "execution_count": 28,
      "metadata": {
        "colab": {
          "base_uri": "https://localhost:8080/"
        },
        "id": "PV8Y-BrcdS2-",
        "outputId": "4280e4fc-5f5d-488c-f7e8-ef5bfcf244fa"
      },
      "outputs": [
        {
          "output_type": "stream",
          "name": "stdout",
          "text": [
            "++++ Categoria de Habilitação +++++\n",
            "Quantidade de Rodas do Veículo: 5\n",
            "Informe Peso do Veículo: 150000\n",
            "Quantas pessoas cabe no Veículo? 1\n",
            "Habilitação do tipo E: Veículos com quatro rodas ou mais e com mais de 6000 kg\n"
          ]
        }
      ],
      "source": [
        "print(\"++++ Categoria de Habilitação +++++\");\n",
        "quantidaDedeRodas =  int(input(\"Quantidade de Rodas do Veículo: \"));\n",
        "if quantidaDedeRodas == 2 or quantidaDedeRodas == 3:\n",
        "  print(\"Habilitação do tipo A: Veículos com duas ou três rodas\");\n",
        "elif quantidaDedeRodas < 2:\n",
        "  print(\"Uniciclo não tem categoria de Habilitação\");\n",
        "elif quantidaDedeRodas >=4:\n",
        "  pesoBrutoEmQuilogramas = int(input(\"Informe Peso do Veículo: \"));\n",
        "  quantidadeDePessoasNoVeoculo = int(input(\"Quantas pessoas cabe no Veículo? \"));\n",
        "  if quantidadeDePessoasNoVeoculo <=8 and pesoBrutoEmQuilogramas <= 3500:\n",
        "    print(\"Habilitação do tipo B: Veículos com quatro rodas, que acomodam até oito pessoas e seu peso é de até 3500 kg\");\n",
        "  elif quantidadeDePessoasNoVeoculo <=8 and pesoBrutoEmQuilogramas  <= 6000:\n",
        "    print(\"Habilitação do tipo C: Veículos com quatro rodas ou mais e com peso entre 3501 e 6000 kg; \");\n",
        "  elif quantidadeDePessoasNoVeoculo > 8 and pesoBrutoEmQuilogramas  <= 6000:\n",
        "    print(\"Habilitação do tipo D: Veículos com quatro rodas ou mais e que acomodam mais de oito pessoas\");\n",
        "  else:\n",
        "    print(\"Habilitação do tipo E: Veículos com quatro rodas ou mais e com mais de 6000 kg\")"
      ]
    },
    {
      "cell_type": "code",
      "source": [
        "\n",
        "\n",
        "\n"
      ],
      "metadata": {
        "id": "2StxuCbhdn5L"
      },
      "execution_count": null,
      "outputs": []
    },
    {
      "cell_type": "code",
      "source": [
        "if minhaIdade >= idadeAutorisada:\n",
        "  print(\"Você pode Tira a Habilitação\")\n",
        "elif minhaIdade <= 18 and permissaoPais == True:\n",
        "  print(\"Seus pais são deram permissão para você tirar habilitação\")\n",
        "else:\n",
        "  print(\"você não pode tira habilitação\");\n"
      ],
      "metadata": {
        "colab": {
          "base_uri": "https://localhost:8080/"
        },
        "id": "j7pvFh4Wdwf2",
        "outputId": "97ee3ee1-4252-47d3-8e0b-78c7787614df"
      },
      "execution_count": 12,
      "outputs": [
        {
          "output_type": "stream",
          "name": "stdout",
          "text": [
            "Você pode Tira a Habilitação\n"
          ]
        }
      ]
    },
    {
      "cell_type": "code",
      "source": [
        "dia = \"ter\"\n",
        "feriado = False"
      ],
      "metadata": {
        "id": "s94o4qEpxLCn"
      },
      "execution_count": 23,
      "outputs": []
    },
    {
      "cell_type": "code",
      "source": [
        "print((dia == \"s\")or (feriado == False))"
      ],
      "metadata": {
        "colab": {
          "base_uri": "https://localhost:8080/"
        },
        "id": "DxNNwKSfxQ9D",
        "outputId": "1d775420-5915-4b91-cbef-33a74aee1fe9"
      },
      "execution_count": 24,
      "outputs": [
        {
          "output_type": "stream",
          "name": "stdout",
          "text": [
            "True\n"
          ]
        }
      ]
    }
  ]
}