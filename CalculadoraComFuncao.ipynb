{
  "cells": [
    {
      "cell_type": "markdown",
      "metadata": {
        "id": "view-in-github",
        "colab_type": "text"
      },
      "source": [
        "<a href=\"https://colab.research.google.com/github/diasjames19/-analise-de-dados-com-python-e-pandas/blob/main/CalculadoraComFuncao.ipynb\" target=\"_parent\"><img src=\"https://colab.research.google.com/assets/colab-badge.svg\" alt=\"Open In Colab\"/></a>"
      ]
    },
    {
      "cell_type": "code",
      "execution_count": 4,
      "metadata": {
        "colab": {
          "base_uri": "https://localhost:8080/"
        },
        "id": "2FP2JNSBziL7",
        "outputId": "b7d9266c-12ce-4a9b-e403-49f94d1f6716"
      },
      "outputs": [
        {
          "output_type": "stream",
          "name": "stdout",
          "text": [
            "Inicio\n",
            "[1]=>Calculadora\n",
            "[0]=>Sair\n",
            "1 - Escolha a Opção: 1\n",
            "\n",
            "[=====|Opeções|=====]\n",
            "\n",
            "[1]=>Operações Basicas\n",
            "[0]=>Sair\n",
            "\n",
            "[======================]\n",
            "\n",
            "\n",
            "\n",
            "\n",
            " Escolha a Opeção: 0\n",
            "Tem Certeza que você quer sair da Aplicação\n",
            "[Sim]=> Digite 0 novamente!\n",
            "[Não]=> Digite 1 para voltar\n",
            "1 - Escolha a Opção: 0\n",
            "Você saiu da Aplicação!!\n"
          ]
        }
      ],
      "source": [
        "#Função  do layout do Programa Calculadora\n",
        "def layout(texto=\"[=====|Calculadora|=====]\\n\\n[1]=>Adição\\n[2]=>Subtração\\n[3]=>Multiplicação\\n[4]=>Divisão\\n[0]Sair\\n\\n[======================]\\n\"):\n",
        "  return texto;\n",
        "#Função Menu\n",
        "def menu():\n",
        "  print(\"\\n[=====|Opeções|=====]\\n\\n[1]=>Operações Basicas\\n[0]=>Sair\\n\\n[======================]\\n\")\n",
        "  print(\"\\n\")\n",
        "  while(True):\n",
        "    try:\n",
        "        menu = int(input(\"\\n Escolha a Opeção: \"));\n",
        "        if(menu == 1):\n",
        "            print(f'{calculadora(menu)}\\n');\n",
        "        else:\n",
        "          if(menu < 1):\n",
        "            print(f'Tem Certeza que você quer sair da Aplicação\\n[Sim]=> Digite 0 novamente!\\n[Não]=> Digite 1 para voltar');\n",
        "            break\n",
        "          else:\n",
        "            print(f'Opeção selecionada não existe');\n",
        "            menu = int(input(\"\\nEscolha a Opção: \"));\n",
        "    except:\n",
        "      print(\"As opções de escolha são numeros, não pode ser letras!\")\n",
        "#Função para uso das quatros Operações da Matematica\n",
        "def calculadora(opc):\n",
        "  print(layout());\n",
        "  print(\"\\n[=====|Calcular|=====]\\n\");\n",
        "  opc =int(input(\"Operação:=> \"))\n",
        "  match opc:\n",
        "                case 0:\n",
        "                    return 'Tem Certeza que você quer sair da Aplicação\\nDigite 0 duas vezes para sair'\n",
        "                case 1:\n",
        "                    valor1 = float(input(\"Digite valor 1:=> \"))\n",
        "                    valor2 = float(input(\"Digite valor 2:=> \"))\n",
        "                    resultado = valor1 + valor2;\n",
        "                    return f'Resultado => {resultado}';\n",
        "                case 2:\n",
        "                    valor1 = float(input(\"Digite valor 1:=> \"))\n",
        "                    valor2 = float(input(\"Digite valor 2:=> \"))\n",
        "                    resultado =  valor1 - valor2;\n",
        "                    return f'Resultado => {resultado}';\n",
        "                case 3:\n",
        "                    valor1 = float(input(\"Digite valor 1:=> \"))\n",
        "                    valor2 = float(input(\"Digite valor 2:=> \"))\n",
        "                    resultado = valor1 * valor2;\n",
        "                    return f'Resultado => {resultado}';\n",
        "                case 4:\n",
        "                    valor1 = float(input(\"Digite valor 1:=> \"))\n",
        "                    valor2 = float(input(\"Digite valor 2:=> \"))\n",
        "                    resultado = valor1 / valor2;\n",
        "                    return f'Resultado => {resultado}';\n",
        "\n",
        "#Parte Principal do Programa\n",
        "print(\"Inicio\\n[1]=>Calculadora\\n[0]=>Sair\");\n",
        "while(True):\n",
        "  try:\n",
        "    operacao = int(input(\"1 - Escolha a Opção: \"));\n",
        "    if(operacao == 1):\n",
        "      menu();\n",
        "    else:\n",
        "      if(operacao < 1):\n",
        "          print(\"Você saiu da Aplicação!!\");\n",
        "          break\n",
        "      else:\n",
        "         print(\"Opção Invalida!!\")\n",
        "         menu();\n",
        "  except:\n",
        "    print(\"As opções de escolha são numeros, não pode ser letras!\")\n"
      ]
    }
  ],
  "metadata": {
    "colab": {
      "provenance": [],
      "authorship_tag": "ABX9TyN5TyPqNjq155Z3CNlzLJ7n",
      "include_colab_link": true
    },
    "kernelspec": {
      "display_name": "Python 3",
      "name": "python3"
    },
    "language_info": {
      "name": "python"
    }
  },
  "nbformat": 4,
  "nbformat_minor": 0
}