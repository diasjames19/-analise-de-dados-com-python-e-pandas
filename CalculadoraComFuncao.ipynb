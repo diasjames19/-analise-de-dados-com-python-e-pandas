#Função  do layout do Programa Calculadora
def layout(texto="[=====|Calculadora|=====]\n\n[1]=>Adição\n[2]=>Subtração\n[3]=>Multiplicação\n[4]=>Divisão\\n\n[======================]\n"):
  return texto;
#Função Menu
def menu(menu):
  print("\n[=====|Opeções|=====]\n\n[1]=>Operações Basicas\n[0]=>Sair\n\n[======================]\n")
  menu = int(input("\n Escolha a Opeção: "));
  print("\n")
  while(menu != 0):
    if(menu == 1):
        print(f'{calculadora(menu)}\n');
    else:
      print(f'Opeção selecionada não existe');
      menu = int(input("\nEscolha a Opção: "));
  print(f'Você saiu da Aplicação!');

#Função para uso das quatros Operações da Matematica
def calculadora(opc):
  print(layout());
  opc =int(input("Operação:=> "))
  print("\n[=====|Calcular|=====]\n");
  if(opc == 0):
    print("Você quer sair da Aplicação!!");
    menu(opc)
  elif(opc == 1):
    match opc:
      case 0:
        if(opc == 0):
          exit();
      case 1:
        valor1 = float(input("Digite valor 1:=> "))
        valor2 = float(input("Digite valor 2:=> "))
        resultado = valor1 + valor2;
        return f'Resultado => {resultado}';
      case 2:
        valor1 = float(input("Digite valor 1:=> "))
        valor2 = float(input("Digite valor 2:=> "))
        resultado =  valor1 - valor2;
        return f'Resultado => {resultado}';
      case 3:
        valor1 = float(input("Digite valor 1:=> "))
        valor2 = float(input("Digite valor 2:=> "))
        resultado = valor1 * valor2;
        return f'Resultado => {resultado}';
      case 4:
        valor1 = float(input("Digite valor 1:=> "))
        valor2 = float(input("Digite valor 2:=> "))
        resultado = valor1 / valor2;
        return f'Resultado => {resultado}';     
#Parte Principal do Programa
print("Inicio\n[1]=>Calculadora\n[0]=>Sair");
operacao = int(input("1 - Escolha a Opção: "));
if(operacao == 1):
  menu(operacao);
elif(operacao < 1):
  print("Você saiu da Aplicação!!");
else:
  print("Opção Invalida!!")
  menu(operacao);
 

