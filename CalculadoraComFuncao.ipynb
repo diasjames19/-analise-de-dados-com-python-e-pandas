{
  "nbformat": 4,
  "nbformat_minor": 0,
  "metadata": {
    "colab": {
      "provenance": [],
      "authorship_tag": "ABX9TyNy8b3RqQOdiel//NcCkxHg",
      "include_colab_link": true
    },
    "kernelspec": {
      "name": "python3",
      "display_name": "Python 3"
    },
    "language_info": {
      "name": "python"
    }
  },
  "cells": [
    {
      "cell_type": "markdown",
      "metadata": {
        "id": "view-in-github",
        "colab_type": "text"
      },
      "source": [
        "<a href=\"https://colab.research.google.com/github/diasjames19/-analise-de-dados-com-python-e-pandas/blob/main/CalculadoraComFuncao.ipynb\" target=\"_parent\"><img src=\"https://colab.research.google.com/assets/colab-badge.svg\" alt=\"Open In Colab\"/></a>"
      ]
    },
    {
      "cell_type": "code",
      "source": [
        "#Função  do layout do Programa Calculadora\n",
        "def layout(texto=\"[=====|Calculadora|=====]\\n\\n[1]=>Adição\\n[2]=>Subtração\\n[3]=>Multiplicação\\n[4]=>Divisão\\n\\n[======================]\"):\n",
        "  return texto;\n",
        "#Função para uso das quatros Operações da Matematica\n",
        "def calculadora(opc):\n",
        "  print(layout())\n",
        "  opc =int(input(\"Selecione um Opção:=> \"))\n",
        "  match opc:\n",
        "      case 1:\n",
        "        valor1 = float(input(\"Digite valor 1:=> \"))\n",
        "        valor2 = float(input(\"Digite valor 2:=> \"))\n",
        "        resultado = valor1 + valor2;\n",
        "        return f'Resultado => {resultado}';\n",
        "      case 2:\n",
        "        valor1 = float(input(\"Digite valor 1:=> \"))\n",
        "        valor2 = float(input(\"Digite valor 2:=> \"))\n",
        "        resultado =  valor1 - valor2;\n",
        "        return f'Resultado => {resultado}';\n",
        "      case 3:\n",
        "        valor1 = float(input(\"Digite valor 1:=> \"))\n",
        "        valor2 = float(input(\"Digite valor 2:=> \"))\n",
        "        resultado = valor1 * valor2;\n",
        "        return f'Resultado => {resultado}';\n",
        "      case 4:\n",
        "        valor1 = float(input(\"Digite valor 1:=> \"))\n",
        "        valor2 = float(input(\"Digite valor 2:=> \"))\n",
        "        resultado = valor1 / valor2;\n",
        "        return f'Resultado => {resultado}';\n",
        "#Parte Principal do Programa\n",
        "print(\"Inicio\\n[1]=>Calculadora\\n[0]=>Sair\");\n",
        "operacao = int(input(\"Escolha a Opção: \"));\n",
        "if(operacao == 0):\n",
        "  print(f'Você siau do sistema')\n",
        "elif(operacao > 1):\n",
        "  print(f'Opeção selecionada não existe');\n",
        "else:\n",
        "  print(f'{calculadora(op)}')"
      ],
      "metadata": {
        "id": "2FP2JNSBziL7"
      },
      "execution_count": null,
      "outputs": []
    }
  ]
}