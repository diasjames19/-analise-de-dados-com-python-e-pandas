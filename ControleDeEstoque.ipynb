{
  "nbformat": 4,
  "nbformat_minor": 0,
  "metadata": {
    "colab": {
      "provenance": [],
      "authorship_tag": "ABX9TyOYALxy6zagAqX7m8sqa64L",
      "include_colab_link": true
    },
    "kernelspec": {
      "name": "python3",
      "display_name": "Python 3"
    },
    "language_info": {
      "name": "python"
    }
  },
  "cells": [
    {
      "cell_type": "markdown",
      "metadata": {
        "id": "view-in-github",
        "colab_type": "text"
      },
      "source": [
        "<a href=\"https://colab.research.google.com/github/diasjames19/-analise-de-dados-com-python-e-pandas/blob/main/ControleDeEstoque.ipynb\" target=\"_parent\"><img src=\"https://colab.research.google.com/assets/colab-badge.svg\" alt=\"Open In Colab\"/></a>"
      ]
    },
    {
      "cell_type": "code",
      "execution_count": null,
      "metadata": {
        "colab": {
          "base_uri": "https://localhost:8080/"
        },
        "id": "zGNVybbK_pry",
        "outputId": "a5918d57-9628-488c-8c2e-b43aaa145fea"
      },
      "outputs": [
        {
          "output_type": "stream",
          "name": "stdout",
          "text": [
            "Inicio\n",
            "[1]=>Opeções de Cadastros\n",
            "[0]=>Sair\n",
            "1 - Escolha a Opção: 1\n",
            "\n",
            "[=====|Estoque|=====]\n",
            "\n",
            "[1]=>Menu\n",
            "[0]=>Sair\n",
            "\n",
            "[======================]\n",
            "\n",
            "\n",
            "\n",
            "\n",
            " Escolha a Opeção: 1\n",
            "[=====|Cadastro Geral|=====]\n",
            "\n",
            "[1]=>Adicionar\n",
            "[2]=>Editar\n",
            "[3]=>Remover\n",
            "[0]Sair\n",
            "\n",
            "[======================]\n",
            "\n",
            "\n",
            "[=====|Operações de Cadastro|=====]\n",
            "\n",
            "As opções de escolha são numeros, não pode ser letras!\n"
          ]
        }
      ],
      "source": [
        "def layout(texto=\"[=====|Cadastro Geral|=====]\\n\\n[1]=>Adicionar\\n[2]=>Editar\\n[3]=>Remover\\n[0]Sair\\n\\n[======================]\\n\"):\n",
        "  return texto;\n",
        "def menu():\n",
        "  print(\"\\n[=====|Estoque|=====]\\n\\n[1]=>Menu\\n[0]=>Sair\\n\\n[======================]\\n\")\n",
        "  print(\"\\n\")\n",
        "  while(True):\n",
        "    try:\n",
        "        menu = int(input(\"\\n Escolha a Opeção: \"));\n",
        "        if(menu == 1):\n",
        "            print(f'{operacoes(menu)}\\n');\n",
        "        else:\n",
        "          if(menu < 1):\n",
        "            print(f'Tem Certeza que você quer sair da Aplicação\\n[Sim]=> Digite 0 novamente!\\n[Não]=> Digite 1 para voltar');\n",
        "            break\n",
        "          else:\n",
        "            print(f'Opeção selecionada não existe');\n",
        "            menu = int(input(\"\\nEscolha a Opção: \"));\n",
        "    except:\n",
        "      print(\"As opções de escolha são numeros, não pode ser letras!\")\n",
        "def operacoes(opc):\n",
        "  print(layout());\n",
        "  print(\"\\n[=====|Operações de Cadastro|=====]\\n\");\n",
        "  opc =int(input(\"Operação:=> \"))\n",
        "\n",
        "  match opc:\n",
        "                case 0:\n",
        "                    return 'Tem Certeza que você quer sair da Aplicação\\nDigite 0 duas vezes para sair'\n",
        "                case 1:\n",
        "                            buscarProduto = input(\"Digite o novo Valor :=> \")\n",
        "                            produtos.append(buscarProduto)\n",
        "                            print(produtos)\n",
        "                case 2:\n",
        "                  procurar = input(\"Digite nome do Produto :=> \")\n",
        "                  tem = False\n",
        "                  for x in produtos:\n",
        "                          if x == procurar:\n",
        "                              tem = True\n",
        "                              posicao = produtos.index(x)\n",
        "                              if(tem == True):\n",
        "                                  print(f' Descrição:{x}\\n')\n",
        "                                  removido = produtos.pop(posicao)\n",
        "                                  buscarProduto = input(\"2 - Novo nome do Produto :=> \")\n",
        "                                  produtos.append(buscarProduto)\n",
        "                                  print(f'Produto Editado:=> {removido}')\n",
        "                                  return f'Estoque Atualizado :=>{produtos}'\n",
        "                          else:\n",
        "                              buscarProduto = input(\"3 - Digite o novo Valor :=> \")\n",
        "                              produtos.append(buscarProduto)\n",
        "                              return f'Estoque Atualizado :=>{produtos}'\n",
        "                case 3:\n",
        "                    procurar = input(\"Digite nome do Produto :=> \")\n",
        "                    tem = False\n",
        "                    for x in produtos:\n",
        "                          if x == procurar:\n",
        "                              tem = True\n",
        "                              posicao = produtos.index(x)\n",
        "                              if(tem == True):\n",
        "                                  print(f' Descrição:{x}\\n')\n",
        "                                  removido = produtos.pop(posicao)\n",
        "                                  print(f'Produto Removido:=> {x}')\n",
        "                                  return f'Estoque Atualizado :=>{produtos}'\n",
        "                          else:\n",
        "                              return f'Produto já excluido ou não existe!'\n",
        "\n",
        "                #Parte Principal do Programa\n",
        "print(\"Inicio\\n[1]=>Opeções de Cadastros\\n[0]=>Sair\");\n",
        "produtos = [\"apple\", \"banana\", \"cherry\"]\n",
        "while(True):\n",
        "  try:\n",
        "    operacao = int(input(\"1 - Escolha a Opção: \"));\n",
        "    if(operacao == 1):\n",
        "      menu();\n",
        "    else:\n",
        "      if(operacao < 1):\n",
        "          print(\"Você saiu da Aplicação!!\");\n",
        "          break\n",
        "      else:\n",
        "         print(\"Opção Invalida!!\")\n",
        "         menu();\n",
        "  except:\n",
        "    print(\"As opções de escolha são numeros, não pode ser letras!\")\n"
      ]
    }
  ]
}